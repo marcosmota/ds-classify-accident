{
 "cells": [
  {
   "cell_type": "code",
   "execution_count": 33,
   "metadata": {},
   "outputs": [],
   "source": [
    "import pandas as pd\n",
    "from pyspark.ml import Pipeline\n",
    "from pyspark.sql import SparkSession\n",
    "from pyspark.ml.feature import Tokenizer\n",
    "from pyspark.sql import Row\n",
    "\n",
    "from pyspark.sql.functions import *\n",
    "\n",
    "INPUT_PATH = \"../data/external/acidentes*.csv\"\n",
    "OUTPUT_PATH = \"../data/processed/\"\n",
    "VERSION = \"v1\""
   ]
  },
  {
   "cell_type": "code",
   "execution_count": 34,
   "metadata": {},
   "outputs": [],
   "source": [
    "spark = SparkSession.builder.appName(\"ds-classify\").getOrCreate()\n",
    "df = spark.read.option('encoding', 'ISO-8859-1').csv(INPUT_PATH, header=True, sep=';')"
   ]
  },
  {
   "cell_type": "code",
   "execution_count": 3,
   "metadata": {},
   "outputs": [
    {
     "name": "stderr",
     "output_type": "stream",
     "text": [
      "24/02/22 10:30:39 WARN SparkStringUtils: Truncated the string representation of a plan since it was too large. This behavior can be adjusted by setting 'spark.sql.debug.maxToStringFields'.\n"
     ]
    },
    {
     "name": "stdout",
     "output_type": "stream",
     "text": [
      "+------+------+------------+------------+--------+---+---+-----+--------------------+--------------------+--------------------+----------------------+-----------+-----------+----------------------+----------+-----------------+--------+----------+---------------+--------------------+----------------------+--------------+-------------+-----+-------------+------+-------------+--------------+------+------------+------------+--------+---------+---------------+\n",
      "|    id| pesid|data_inversa|  dia_semana| horario| uf| br|   km|           municipio|      causa_acidente|       tipo_acidente|classificacao_acidente|   fase_dia|sentido_via|condicao_metereologica|tipo_pista|      tracado_via|uso_solo|id_veiculo|   tipo_veiculo|               marca|ano_fabricacao_veiculo|tipo_envolvido|estado_fisico|idade|         sexo|ilesos|feridos_leves|feridos_graves|mortos|    latitude|   longitude|regional|delegacia|            uop|\n",
      "+------+------+------------+------------+--------+---+---+-----+--------------------+--------------------+--------------------+----------------------+-----------+-----------+----------------------+----------+-----------------+--------+----------+---------------+--------------------+----------------------+--------------+-------------+-----+-------------+------+-------------+--------------+------+------------+------------+--------+---------+---------------+\n",
      "|182256|403856|  2019-01-01| terça-feira|04:00:00| CE|116|136,9|              RUSSAS|    Animais na Pista|Atropelamento de ...|           Sem Vítimas|  Amanhecer|Decrescente|                 Vento|   Simples|            Curva|     Não|    324937|       Caminhão|I/MB 15SPRINT RON...|                  2012|      Condutor|        Ileso|   35|    Masculino|     1|            0|             0|     0|   -4,766018|  -38,056034| SPRF-CE| DEL03-CE| UOP01-DEL03-CE|\n",
      "|182263|402859|  2019-01-01| terça-feira|05:00:00| MT|158|599,5|            AGUA BOA|Defeito Mecânico ...|            Incêndio|           Sem Vítimas|  Amanhecer|Decrescente|        Garoa/Chuvisco|   Simples|             Reta|     Não|    324940|       Caminhão|FORD/CARGO 815 N/...|                  2011|      Condutor|        Ileso|   30|    Masculino|     1|            0|             0|     0|     -14,319|     -52,169| SPRF-MT| DEL07-MT| UOP02-DEL07-MT|\n",
      "|182277|402850|  2019-01-01| terça-feira|10:00:00| PA| 10|   34|          DOM ELISEU|Velocidade Incomp...|    Colisão traseira|           Sem Vítimas|  Pleno dia|Decrescente|               Nublado|   Simples|    Não Informado|     Não|    324958|Caminhão-trator|VOLVO/FH 540 6X4T...|                  2012|      Condutor|        Ileso|   54|    Masculino|     1|            0|             0|     0| -4,15296734|-47,54608154| SPRF-PA| DEL02-PA| UOP02-DEL02-PA|\n",
      "|182289|402431|  2019-01-01| terça-feira|08:30:00| BA|101|   13|            RIO REAL|  Ingestão de Álcool|    Colisão traseira|   Com Vítimas Feridas|  Pleno dia|Decrescente|             Céu Claro|     Dupla|Desvio Temporário|     Não|    324987|Caminhão-trator|SCANIA/R 440 A6X2...|                  2018|      Condutor|        Ileso|   43|    Masculino|     1|            0|             0|     0|    -11,5896|    -37,8761| SPRF-SE| DEL02-SE| UOP03-DEL02-SE|\n",
      "|182307|402638|  2019-01-01| terça-feira|13:50:00| BA|116|  440|    FEIRA DE SANTANA|  Ingestão de Álcool|Saída de leito ca...|   Com Vítimas Feridas|  Pleno dia|Decrescente|             Céu Claro|     Dupla|            Curva|     Não|    325030|Caminhão-trator|VOLVO/FH12 380 4X...|                  2003|      Condutor| Lesões Leves|   57|    Masculino|     0|            1|             0|     0|     -12,344|     -39,087| SPRF-BA| DEL02-BA| UOP01-DEL02-BA|\n",
      "|182307|402642|  2019-01-01| terça-feira|13:50:00| BA|116|  440|    FEIRA DE SANTANA|  Ingestão de Álcool|Saída de leito ca...|   Com Vítimas Feridas|  Pleno dia|Decrescente|             Céu Claro|     Dupla|            Curva|     Não|    325030|Caminhão-trator|VOLVO/FH12 380 4X...|                  2003|    Passageiro|Lesões Graves|   37|    Masculino|     0|            0|             1|     0|     -12,344|     -39,087| SPRF-BA| DEL02-BA| UOP01-DEL02-BA|\n",
      "|182316|402361|  2019-01-01| terça-feira|15:15:00| RS|101|    8|              TORRES|Falta de Atenção ...|          Tombamento|           Sem Vítimas|  Pleno dia|  Crescente|             Céu Claro|     Dupla|             Reta|     Sim|    325039|Caminhão-trator|SCANIA/R124 GA6X4...|                  2004|      Condutor|        Ileso|   28|    Masculino|     1|            0|             0|     0|  -29,360483|  -49,807865| SPRF-RS| DEL03-RS|DEL9/3-UOP03/RS|\n",
      "|182334|402401|  2019-01-01| terça-feira|14:45:00| SE|101| 76,7|              MARUIM|Falta de Atenção ...|Saída de leito ca...|   Com Vítimas Feridas|  Pleno dia|  Crescente|                   Sol|   Simples|             Reta|     Não|    325068|       Caminhão|IVECO/TECTOR 240E...|                  2010|      Condutor|Não Informado|   NA|Não Informado|     0|            0|             0|     0|    -10,7853|    -37,1421| SPRF-SE| DEL01-SE| UOP01-DEL01-SE|\n",
      "|182361|402521|  2019-01-01| terça-feira|10:00:00| MG|251|  280|             SALINAS|Ultrapassagem Ind...|Saída de leito ca...|   Com Vítimas Feridas|  Pleno dia|Decrescente|                   Sol|   Simples|             Reta|     Não|    325052|Caminhão-trator|VOLVO/FH 440 6X2T...|                  2011|      Condutor| Lesões Leves|   52|    Masculino|     0|            1|             0|     0|-16,12498503|-42,22251892| SPRF-MG| DEL11-MG| UOP02-DEL11-MG|\n",
      "|182362|404322|  2019-01-01| terça-feira|18:20:00| PE|101|   41|            IGARASSU|  Ingestão de Álcool|     Colisão lateral|           Sem Vítimas|Plena Noite|  Crescente|             Céu Claro|     Dupla|             Reta|     Sim|    325208|       Caminhão|VW/8.140/8.140/8....|                  1999|      Condutor|        Ileso|   59|    Masculino|     1|            0|             0|     0|      -7,837|    -34,9124| SPRF-PE| DEL01-PE| UOP02-DEL01-PE|\n",
      "|182410|404399|  2019-01-01| terça-feira|12:00:00| MG| 40|  454|        CAETANOPOLIS|  Pista Escorregadia|         Capotamento|           Sem Vítimas|  Pleno dia|Decrescente|                 Chuva|     Dupla|             Reta|     Não|    325148|       Caminhão|M.BENZ/1214 C/121...|                  1998|      Condutor|        Ileso|   48|    Masculino|     1|            0|             0|     0|    -19,3627|    -44,3402| SPRF-MG| DEL02-MG| UOP01-DEL02-MG|\n",
      "|182433|404380|  2019-01-01| terça-feira|19:20:00| RJ| 40|  106|     DUQUE DE CAXIAS|  Ingestão de Álcool|Saída de leito ca...|           Sem Vítimas|  Anoitecer|  Crescente|               Nublado|   Simples|             Reta|     Não|    325199|Caminhão-trator|IVECO/STRALIHD 45...|                  2007|      Condutor|        Ileso|   49|    Masculino|     1|            0|             0|     0|    -22,6565|    -43,2837| SPRF-RJ| DEL01-RJ| UOP01-DEL01-RJ|\n",
      "|182443|404484|  2019-01-02|quarta-feira|06:40:00| RJ|116|  227|               PIRAI|Carga excessiva e...|          Tombamento|   Com Vítimas Feridas|  Pleno dia|Decrescente|             Céu Claro|     Dupla|            Curva|     Não|    325276|Caminhão-trator|VOLVO/FH12 380 4X...|                  2004|      Condutor| Lesões Leves|   42|    Masculino|     0|            1|             0|     0|  -22,672081|  -43,817894| SPRF-RJ| DEL07-RJ| UOP01-DEL07-RJ|\n",
      "|182451|402669|  2019-01-02|quarta-feira|07:35:00| RS|386|  365|    FAZENDA VILANOVA|   Condutor Dormindo|    Colisão traseira|   Com Vítimas Feridas|  Pleno dia|Decrescente|             Céu Claro|     Dupla|             Reta|     Não|    325261|Caminhão-trator|M.BENZ/1938 S/193...|                  2004|      Condutor|        Ileso|   40|    Masculino|     1|            0|             0|     0|  -29,570097|  -51,865437| SPRF-RS| DEL04-RS| UOP02-DEL04-RS|\n",
      "|182459|402929|  2019-01-02|quarta-feira|08:50:00| MG|262|  101|          ABRE CAMPO|Defeito Mecânico ...|            Incêndio|           Sem Vítimas|  Pleno dia|Decrescente|             Céu Claro|   Simples|            Curva|     Não|    325388|       Caminhão|IVECO/TECTOR 240E...|                  2011|      Condutor|        Ileso|   36|    Masculino|     1|            0|             0|     0|  -20,289152|  -42,523285| SPRF-MG| DEL03-MG| UOP03-DEL03-MG|\n",
      "|182459|403072|  2019-01-02|quarta-feira|08:50:00| MG|262|  101|          ABRE CAMPO|Defeito Mecânico ...|            Incêndio|           Sem Vítimas|  Pleno dia|Decrescente|             Céu Claro|   Simples|            Curva|     Não|    325388|       Caminhão|IVECO/TECTOR 240E...|                  2011|    Passageiro|        Ileso|   30|    Masculino|     1|            0|             0|     0|  -20,289152|  -42,523285| SPRF-MG| DEL03-MG| UOP03-DEL03-MG|\n",
      "|182472|405393|  2019-01-02|quarta-feira|08:25:00| CE|116|  162|              RUSSAS|Falta de Atenção ...|     Colisão lateral|           Sem Vítimas|  Pleno dia|Decrescente|             Céu Claro|   Simples|             Reta|     Sim|    325282|Caminhão-trator|VOLVO/FH 400 4X2T...|                  2006|      Condutor|        Ileso|   43|    Masculino|     1|            0|             0|     0|   -4,929619|  -37,989922| SPRF-CE| DEL03-CE| UOP01-DEL03-CE|\n",
      "|182486|403142|  2019-01-02|quarta-feira|10:45:00| SP|116|  311|SAO LOURENCO DA S...|   Condutor Dormindo|Atropelamento de ...|   Com Vítimas Feridas|  Pleno dia|  Crescente|                   Sol|     Dupla|             Reta|     Não|    325377|       Caminhão|M.BENZ/915C/915C/...|                  2011|      Pedestre| Lesões Leves|   48|     Feminino|     0|            1|             0|     0|-23,86912046| -46,9569397| SPRF-SP| DEL04-SP| UOP01-DEL04-SP|\n",
      "|182486|402972|  2019-01-02|quarta-feira|10:45:00| SP|116|  311|SAO LOURENCO DA S...|   Condutor Dormindo|Atropelamento de ...|   Com Vítimas Feridas|  Pleno dia|  Crescente|                   Sol|     Dupla|             Reta|     Não|    325377|       Caminhão|M.BENZ/915C/915C/...|                  2011|      Condutor|        Ileso|   39|    Masculino|     1|            0|             0|     0|-23,86912046| -46,9569397| SPRF-SP| DEL04-SP| UOP01-DEL04-SP|\n",
      "|182486|403140|  2019-01-02|quarta-feira|10:45:00| SP|116|  311|SAO LOURENCO DA S...|   Condutor Dormindo|Atropelamento de ...|   Com Vítimas Feridas|  Pleno dia|  Crescente|                   Sol|     Dupla|             Reta|     Não|    325377|       Caminhão|M.BENZ/915C/915C/...|                  2011|    Passageiro|        Ileso|   26|    Masculino|     1|            0|             0|     0|-23,86912046| -46,9569397| SPRF-SP| DEL04-SP| UOP01-DEL04-SP|\n",
      "+------+------+------------+------------+--------+---+---+-----+--------------------+--------------------+--------------------+----------------------+-----------+-----------+----------------------+----------+-----------------+--------+----------+---------------+--------------------+----------------------+--------------+-------------+-----+-------------+------+-------------+--------------+------+------------+------------+--------+---------+---------------+\n",
      "only showing top 20 rows\n",
      "\n"
     ]
    }
   ],
   "source": [
    "df.show()"
   ]
  },
  {
   "cell_type": "code",
   "execution_count": 35,
   "metadata": {},
   "outputs": [],
   "source": [
    "df = df.withColumn(\"idade\", when(df.idade == \"NA\", None) \\\n",
    "      .otherwise(df.idade))"
   ]
  },
  {
   "cell_type": "code",
   "execution_count": 36,
   "metadata": {},
   "outputs": [],
   "source": [
    "from pyspark.sql.types import IntegerType\n",
    "df = df.withColumn(\"idade\", col(\"idade\").cast(IntegerType()))"
   ]
  },
  {
   "cell_type": "code",
   "execution_count": null,
   "metadata": {},
   "outputs": [],
   "source": []
  },
  {
   "cell_type": "code",
   "execution_count": 4,
   "metadata": {},
   "outputs": [
    {
     "data": {
      "text/plain": [
       "{'fields': [StructField('id', StringType(), True),\n",
       "  StructField('pesid', StringType(), True),\n",
       "  StructField('data_inversa', StringType(), True),\n",
       "  StructField('dia_semana', StringType(), True),\n",
       "  StructField('horario', StringType(), True),\n",
       "  StructField('uf', StringType(), True),\n",
       "  StructField('br', StringType(), True),\n",
       "  StructField('km', StringType(), True),\n",
       "  StructField('municipio', StringType(), True),\n",
       "  StructField('causa_acidente', StringType(), True),\n",
       "  StructField('tipo_acidente', StringType(), True),\n",
       "  StructField('classificacao_acidente', StringType(), True),\n",
       "  StructField('fase_dia', StringType(), True),\n",
       "  StructField('sentido_via', StringType(), True),\n",
       "  StructField('condicao_metereologica', StringType(), True),\n",
       "  StructField('tipo_pista', StringType(), True),\n",
       "  StructField('tracado_via', StringType(), True),\n",
       "  StructField('uso_solo', StringType(), True),\n",
       "  StructField('id_veiculo', StringType(), True),\n",
       "  StructField('tipo_veiculo', StringType(), True),\n",
       "  StructField('marca', StringType(), True),\n",
       "  StructField('ano_fabricacao_veiculo', StringType(), True),\n",
       "  StructField('tipo_envolvido', StringType(), True),\n",
       "  StructField('estado_fisico', StringType(), True),\n",
       "  StructField('idade', StringType(), True),\n",
       "  StructField('sexo', StringType(), True),\n",
       "  StructField('ilesos', StringType(), True),\n",
       "  StructField('feridos_leves', StringType(), True),\n",
       "  StructField('feridos_graves', StringType(), True),\n",
       "  StructField('mortos', StringType(), True),\n",
       "  StructField('latitude', StringType(), True),\n",
       "  StructField('longitude', StringType(), True),\n",
       "  StructField('regional', StringType(), True),\n",
       "  StructField('delegacia', StringType(), True),\n",
       "  StructField('uop', StringType(), True)],\n",
       " 'names': ['id',\n",
       "  'pesid',\n",
       "  'data_inversa',\n",
       "  'dia_semana',\n",
       "  'horario',\n",
       "  'uf',\n",
       "  'br',\n",
       "  'km',\n",
       "  'municipio',\n",
       "  'causa_acidente',\n",
       "  'tipo_acidente',\n",
       "  'classificacao_acidente',\n",
       "  'fase_dia',\n",
       "  'sentido_via',\n",
       "  'condicao_metereologica',\n",
       "  'tipo_pista',\n",
       "  'tracado_via',\n",
       "  'uso_solo',\n",
       "  'id_veiculo',\n",
       "  'tipo_veiculo',\n",
       "  'marca',\n",
       "  'ano_fabricacao_veiculo',\n",
       "  'tipo_envolvido',\n",
       "  'estado_fisico',\n",
       "  'idade',\n",
       "  'sexo',\n",
       "  'ilesos',\n",
       "  'feridos_leves',\n",
       "  'feridos_graves',\n",
       "  'mortos',\n",
       "  'latitude',\n",
       "  'longitude',\n",
       "  'regional',\n",
       "  'delegacia',\n",
       "  'uop'],\n",
       " '_needConversion': [False,\n",
       "  False,\n",
       "  False,\n",
       "  False,\n",
       "  False,\n",
       "  False,\n",
       "  False,\n",
       "  False,\n",
       "  False,\n",
       "  False,\n",
       "  False,\n",
       "  False,\n",
       "  False,\n",
       "  False,\n",
       "  False,\n",
       "  False,\n",
       "  False,\n",
       "  False,\n",
       "  False,\n",
       "  False,\n",
       "  False,\n",
       "  False,\n",
       "  False,\n",
       "  False,\n",
       "  False,\n",
       "  False,\n",
       "  False,\n",
       "  False,\n",
       "  False,\n",
       "  False,\n",
       "  False,\n",
       "  False,\n",
       "  False,\n",
       "  False,\n",
       "  False],\n",
       " '_needSerializeAnyField': False}"
      ]
     },
     "execution_count": 4,
     "metadata": {},
     "output_type": "execute_result"
    }
   ],
   "source": [
    "df.schema.__dict__"
   ]
  },
  {
   "cell_type": "code",
   "execution_count": 5,
   "metadata": {},
   "outputs": [],
   "source": [
    "dataset = df.select(col(\"id\"), col(\"data_inversa\"), col(\"uf\"), col(\"sentido_via\"), col(\"tipo_acidente\"),  col(\"km\"), col(\"causa_acidente\"), col(\"br\"), col(\"fase_dia\"), col(\"estado_fisico\"), col(\"condicao_metereologica\"), col(\"tipo_pista\"),col(\"ano_fabricacao_veiculo\"), col(\"tipo_veiculo\"), col(\"idade\"), col(\"sexo\"), col(\"mortos\"))"
   ]
  },
  {
   "cell_type": "code",
   "execution_count": 6,
   "metadata": {},
   "outputs": [
    {
     "name": "stdout",
     "output_type": "stream",
     "text": [
      "+------+------------+---+-----------+--------------------+-----+--------------------+---+-----------+-------------+----------------------+----------+----------------------+---------------+-----+-------------+------+\n",
      "|    id|data_inversa| uf|sentido_via|       tipo_acidente|   km|      causa_acidente| br|   fase_dia|estado_fisico|condicao_metereologica|tipo_pista|ano_fabricacao_veiculo|   tipo_veiculo|idade|         sexo|mortos|\n",
      "+------+------------+---+-----------+--------------------+-----+--------------------+---+-----------+-------------+----------------------+----------+----------------------+---------------+-----+-------------+------+\n",
      "|182256|  2019-01-01| CE|Decrescente|Atropelamento de ...|136,9|    Animais na Pista|116|  Amanhecer|        Ileso|                 Vento|   Simples|                  2012|       Caminhão|   35|    Masculino|     0|\n",
      "|182263|  2019-01-01| MT|Decrescente|            Incêndio|599,5|Defeito Mecânico ...|158|  Amanhecer|        Ileso|        Garoa/Chuvisco|   Simples|                  2011|       Caminhão|   30|    Masculino|     0|\n",
      "|182277|  2019-01-01| PA|Decrescente|    Colisão traseira|   34|Velocidade Incomp...| 10|  Pleno dia|        Ileso|               Nublado|   Simples|                  2012|Caminhão-trator|   54|    Masculino|     0|\n",
      "|182289|  2019-01-01| BA|Decrescente|    Colisão traseira|   13|  Ingestão de Álcool|101|  Pleno dia|        Ileso|             Céu Claro|     Dupla|                  2018|Caminhão-trator|   43|    Masculino|     0|\n",
      "|182307|  2019-01-01| BA|Decrescente|Saída de leito ca...|  440|  Ingestão de Álcool|116|  Pleno dia| Lesões Leves|             Céu Claro|     Dupla|                  2003|Caminhão-trator|   57|    Masculino|     0|\n",
      "|182307|  2019-01-01| BA|Decrescente|Saída de leito ca...|  440|  Ingestão de Álcool|116|  Pleno dia|Lesões Graves|             Céu Claro|     Dupla|                  2003|Caminhão-trator|   37|    Masculino|     0|\n",
      "|182316|  2019-01-01| RS|  Crescente|          Tombamento|    8|Falta de Atenção ...|101|  Pleno dia|        Ileso|             Céu Claro|     Dupla|                  2004|Caminhão-trator|   28|    Masculino|     0|\n",
      "|182334|  2019-01-01| SE|  Crescente|Saída de leito ca...| 76,7|Falta de Atenção ...|101|  Pleno dia|Não Informado|                   Sol|   Simples|                  2010|       Caminhão|   NA|Não Informado|     0|\n",
      "|182361|  2019-01-01| MG|Decrescente|Saída de leito ca...|  280|Ultrapassagem Ind...|251|  Pleno dia| Lesões Leves|                   Sol|   Simples|                  2011|Caminhão-trator|   52|    Masculino|     0|\n",
      "|182362|  2019-01-01| PE|  Crescente|     Colisão lateral|   41|  Ingestão de Álcool|101|Plena Noite|        Ileso|             Céu Claro|     Dupla|                  1999|       Caminhão|   59|    Masculino|     0|\n",
      "|182410|  2019-01-01| MG|Decrescente|         Capotamento|  454|  Pista Escorregadia| 40|  Pleno dia|        Ileso|                 Chuva|     Dupla|                  1998|       Caminhão|   48|    Masculino|     0|\n",
      "|182433|  2019-01-01| RJ|  Crescente|Saída de leito ca...|  106|  Ingestão de Álcool| 40|  Anoitecer|        Ileso|               Nublado|   Simples|                  2007|Caminhão-trator|   49|    Masculino|     0|\n",
      "|182443|  2019-01-02| RJ|Decrescente|          Tombamento|  227|Carga excessiva e...|116|  Pleno dia| Lesões Leves|             Céu Claro|     Dupla|                  2004|Caminhão-trator|   42|    Masculino|     0|\n",
      "|182451|  2019-01-02| RS|Decrescente|    Colisão traseira|  365|   Condutor Dormindo|386|  Pleno dia|        Ileso|             Céu Claro|     Dupla|                  2004|Caminhão-trator|   40|    Masculino|     0|\n",
      "|182459|  2019-01-02| MG|Decrescente|            Incêndio|  101|Defeito Mecânico ...|262|  Pleno dia|        Ileso|             Céu Claro|   Simples|                  2011|       Caminhão|   36|    Masculino|     0|\n",
      "|182459|  2019-01-02| MG|Decrescente|            Incêndio|  101|Defeito Mecânico ...|262|  Pleno dia|        Ileso|             Céu Claro|   Simples|                  2011|       Caminhão|   30|    Masculino|     0|\n",
      "|182472|  2019-01-02| CE|Decrescente|     Colisão lateral|  162|Falta de Atenção ...|116|  Pleno dia|        Ileso|             Céu Claro|   Simples|                  2006|Caminhão-trator|   43|    Masculino|     0|\n",
      "|182486|  2019-01-02| SP|  Crescente|Atropelamento de ...|  311|   Condutor Dormindo|116|  Pleno dia| Lesões Leves|                   Sol|     Dupla|                  2011|       Caminhão|   48|     Feminino|     0|\n",
      "|182486|  2019-01-02| SP|  Crescente|Atropelamento de ...|  311|   Condutor Dormindo|116|  Pleno dia|        Ileso|                   Sol|     Dupla|                  2011|       Caminhão|   39|    Masculino|     0|\n",
      "|182486|  2019-01-02| SP|  Crescente|Atropelamento de ...|  311|   Condutor Dormindo|116|  Pleno dia|        Ileso|                   Sol|     Dupla|                  2011|       Caminhão|   26|    Masculino|     0|\n",
      "+------+------------+---+-----------+--------------------+-----+--------------------+---+-----------+-------------+----------------------+----------+----------------------+---------------+-----+-------------+------+\n",
      "only showing top 20 rows\n",
      "\n"
     ]
    }
   ],
   "source": [
    "dataset.show()"
   ]
  },
  {
   "cell_type": "code",
   "execution_count": 7,
   "metadata": {},
   "outputs": [],
   "source": [
    "import holidays\n",
    "\n",
    "def get_holiday_name_by_state(date, state):\n",
    "    # Ajuste para garantir que a biblioteca holidays reconheça o estado\n",
    "    # Se o estado não for fornecido ou não for válido, a função usará os feriados nacionais\n",
    "    if state not in holidays.Brazil.subdivisions:\n",
    "        state = None\n",
    "    \n",
    "    br_holidays = holidays.Brazil(subdiv=state) if state else holidays.Brazil()\n",
    "    return br_holidays.get(date, default=None)\n",
    "# Registrando a função como uma UDF\n",
    "get_holiday_name_by_state_udf = udf(get_holiday_name_by_state, StringType())"
   ]
  },
  {
   "cell_type": "code",
   "execution_count": 8,
   "metadata": {},
   "outputs": [],
   "source": [
    "from pyspark.sql.types import DateType\n",
    "\n",
    "dataset = dataset.withColumn(\"feriado\", get_holiday_name_by_state_udf(col(\"data_inversa\"), col(\"uf\")))\n",
    "\n",
    "dataset = dataset.withColumn(\"date\", col(\"data_inversa\").cast(DateType()).alias('date')).select(\n",
    "    '*',\n",
    "    year(\"date\").alias('ano'), \n",
    "    month(\"date\").alias('mes'), \n",
    "    dayofmonth(\"date\").alias('dia')\n",
    ").drop(\"data_inversa\")"
   ]
  },
  {
   "cell_type": "code",
   "execution_count": 9,
   "metadata": {},
   "outputs": [
    {
     "name": "stderr",
     "output_type": "stream",
     "text": [
      "/opt/anaconda3/envs/ds-classify-accident/lib/python3.12/site-packages/pyspark/python/lib/pyspark.zip/pyspark/daemon.py:154: DeprecationWarning: This process (pid=57011) is multi-threaded, use of fork() may lead to deadlocks in the child.\n"
     ]
    },
    {
     "name": "stdout",
     "output_type": "stream",
     "text": [
      "+------+---+-----------+--------------------+-----+--------------------+---+-----------+-------------+----------------------+----------+----------------------+---------------+-----+-------------+------+--------------------+----------+----+---+---+\n",
      "|    id| uf|sentido_via|       tipo_acidente|   km|      causa_acidente| br|   fase_dia|estado_fisico|condicao_metereologica|tipo_pista|ano_fabricacao_veiculo|   tipo_veiculo|idade|         sexo|mortos|             feriado|      date| ano|mes|dia|\n",
      "+------+---+-----------+--------------------+-----+--------------------+---+-----------+-------------+----------------------+----------+----------------------+---------------+-----+-------------+------+--------------------+----------+----+---+---+\n",
      "|182256| CE|Decrescente|Atropelamento de ...|136,9|    Animais na Pista|116|  Amanhecer|        Ileso|                 Vento|   Simples|                  2012|       Caminhão|   35|    Masculino|     0|Confraternização ...|2019-01-01|2019|  1|  1|\n",
      "|182263| MT|Decrescente|            Incêndio|599,5|Defeito Mecânico ...|158|  Amanhecer|        Ileso|        Garoa/Chuvisco|   Simples|                  2011|       Caminhão|   30|    Masculino|     0|Confraternização ...|2019-01-01|2019|  1|  1|\n",
      "|182277| PA|Decrescente|    Colisão traseira|   34|Velocidade Incomp...| 10|  Pleno dia|        Ileso|               Nublado|   Simples|                  2012|Caminhão-trator|   54|    Masculino|     0|Confraternização ...|2019-01-01|2019|  1|  1|\n",
      "|182289| BA|Decrescente|    Colisão traseira|   13|  Ingestão de Álcool|101|  Pleno dia|        Ileso|             Céu Claro|     Dupla|                  2018|Caminhão-trator|   43|    Masculino|     0|Confraternização ...|2019-01-01|2019|  1|  1|\n",
      "|182307| BA|Decrescente|Saída de leito ca...|  440|  Ingestão de Álcool|116|  Pleno dia| Lesões Leves|             Céu Claro|     Dupla|                  2003|Caminhão-trator|   57|    Masculino|     0|Confraternização ...|2019-01-01|2019|  1|  1|\n",
      "|182307| BA|Decrescente|Saída de leito ca...|  440|  Ingestão de Álcool|116|  Pleno dia|Lesões Graves|             Céu Claro|     Dupla|                  2003|Caminhão-trator|   37|    Masculino|     0|Confraternização ...|2019-01-01|2019|  1|  1|\n",
      "|182316| RS|  Crescente|          Tombamento|    8|Falta de Atenção ...|101|  Pleno dia|        Ileso|             Céu Claro|     Dupla|                  2004|Caminhão-trator|   28|    Masculino|     0|Confraternização ...|2019-01-01|2019|  1|  1|\n",
      "|182334| SE|  Crescente|Saída de leito ca...| 76,7|Falta de Atenção ...|101|  Pleno dia|Não Informado|                   Sol|   Simples|                  2010|       Caminhão|   NA|Não Informado|     0|Confraternização ...|2019-01-01|2019|  1|  1|\n",
      "|182361| MG|Decrescente|Saída de leito ca...|  280|Ultrapassagem Ind...|251|  Pleno dia| Lesões Leves|                   Sol|   Simples|                  2011|Caminhão-trator|   52|    Masculino|     0|Confraternização ...|2019-01-01|2019|  1|  1|\n",
      "|182362| PE|  Crescente|     Colisão lateral|   41|  Ingestão de Álcool|101|Plena Noite|        Ileso|             Céu Claro|     Dupla|                  1999|       Caminhão|   59|    Masculino|     0|Confraternização ...|2019-01-01|2019|  1|  1|\n",
      "|182410| MG|Decrescente|         Capotamento|  454|  Pista Escorregadia| 40|  Pleno dia|        Ileso|                 Chuva|     Dupla|                  1998|       Caminhão|   48|    Masculino|     0|Confraternização ...|2019-01-01|2019|  1|  1|\n",
      "|182433| RJ|  Crescente|Saída de leito ca...|  106|  Ingestão de Álcool| 40|  Anoitecer|        Ileso|               Nublado|   Simples|                  2007|Caminhão-trator|   49|    Masculino|     0|Confraternização ...|2019-01-01|2019|  1|  1|\n",
      "|182443| RJ|Decrescente|          Tombamento|  227|Carga excessiva e...|116|  Pleno dia| Lesões Leves|             Céu Claro|     Dupla|                  2004|Caminhão-trator|   42|    Masculino|     0|                NULL|2019-01-02|2019|  1|  2|\n",
      "|182451| RS|Decrescente|    Colisão traseira|  365|   Condutor Dormindo|386|  Pleno dia|        Ileso|             Céu Claro|     Dupla|                  2004|Caminhão-trator|   40|    Masculino|     0|                NULL|2019-01-02|2019|  1|  2|\n",
      "|182459| MG|Decrescente|            Incêndio|  101|Defeito Mecânico ...|262|  Pleno dia|        Ileso|             Céu Claro|   Simples|                  2011|       Caminhão|   36|    Masculino|     0|                NULL|2019-01-02|2019|  1|  2|\n",
      "|182459| MG|Decrescente|            Incêndio|  101|Defeito Mecânico ...|262|  Pleno dia|        Ileso|             Céu Claro|   Simples|                  2011|       Caminhão|   30|    Masculino|     0|                NULL|2019-01-02|2019|  1|  2|\n",
      "|182472| CE|Decrescente|     Colisão lateral|  162|Falta de Atenção ...|116|  Pleno dia|        Ileso|             Céu Claro|   Simples|                  2006|Caminhão-trator|   43|    Masculino|     0|                NULL|2019-01-02|2019|  1|  2|\n",
      "|182486| SP|  Crescente|Atropelamento de ...|  311|   Condutor Dormindo|116|  Pleno dia| Lesões Leves|                   Sol|     Dupla|                  2011|       Caminhão|   48|     Feminino|     0|                NULL|2019-01-02|2019|  1|  2|\n",
      "|182486| SP|  Crescente|Atropelamento de ...|  311|   Condutor Dormindo|116|  Pleno dia|        Ileso|                   Sol|     Dupla|                  2011|       Caminhão|   39|    Masculino|     0|                NULL|2019-01-02|2019|  1|  2|\n",
      "|182486| SP|  Crescente|Atropelamento de ...|  311|   Condutor Dormindo|116|  Pleno dia|        Ileso|                   Sol|     Dupla|                  2011|       Caminhão|   26|    Masculino|     0|                NULL|2019-01-02|2019|  1|  2|\n",
      "+------+---+-----------+--------------------+-----+--------------------+---+-----------+-------------+----------------------+----------+----------------------+---------------+-----+-------------+------+--------------------+----------+----+---+---+\n",
      "only showing top 20 rows\n",
      "\n"
     ]
    },
    {
     "name": "stderr",
     "output_type": "stream",
     "text": [
      "                                                                                \r"
     ]
    }
   ],
   "source": [
    "dataset.show()"
   ]
  },
  {
   "cell_type": "code",
   "execution_count": 10,
   "metadata": {},
   "outputs": [
    {
     "name": "stderr",
     "output_type": "stream",
     "text": [
      "                                                                                \r"
     ]
    },
    {
     "data": {
      "text/plain": [
       "783053"
      ]
     },
     "execution_count": 10,
     "metadata": {},
     "output_type": "execute_result"
    }
   ],
   "source": [
    "dataset.count()"
   ]
  },
  {
   "cell_type": "code",
   "execution_count": 11,
   "metadata": {},
   "outputs": [
    {
     "name": "stderr",
     "output_type": "stream",
     "text": [
      "[Stage 7:====================================================>      (8 + 1) / 9]\r"
     ]
    },
    {
     "name": "stdout",
     "output_type": "stream",
     "text": [
      "+------+------+\n",
      "|mortos| count|\n",
      "+------+------+\n",
      "|     0|755972|\n",
      "|     1| 27081|\n",
      "+------+------+\n",
      "\n"
     ]
    },
    {
     "name": "stderr",
     "output_type": "stream",
     "text": [
      "                                                                                \r"
     ]
    }
   ],
   "source": [
    "dataset.groupBy(\"mortos\").count().show()"
   ]
  },
  {
   "cell_type": "code",
   "execution_count": 28,
   "metadata": {},
   "outputs": [
    {
     "name": "stderr",
     "output_type": "stream",
     "text": [
      "                                                                                \r"
     ]
    },
    {
     "data": {
      "text/html": [
       "<div>\n",
       "<style scoped>\n",
       "    .dataframe tbody tr th:only-of-type {\n",
       "        vertical-align: middle;\n",
       "    }\n",
       "\n",
       "    .dataframe tbody tr th {\n",
       "        vertical-align: top;\n",
       "    }\n",
       "\n",
       "    .dataframe thead th {\n",
       "        text-align: right;\n",
       "    }\n",
       "</style>\n",
       "<table border=\"1\" class=\"dataframe\">\n",
       "  <thead>\n",
       "    <tr style=\"text-align: right;\">\n",
       "      <th></th>\n",
       "      <th>causa_acidente</th>\n",
       "      <th>count</th>\n",
       "    </tr>\n",
       "  </thead>\n",
       "  <tbody>\n",
       "    <tr>\n",
       "      <th>0</th>\n",
       "      <td>Ingestão de Álcool</td>\n",
       "      <td>23723</td>\n",
       "    </tr>\n",
       "    <tr>\n",
       "      <th>1</th>\n",
       "      <td>Ingestão de álcool pelo condutor</td>\n",
       "      <td>27592</td>\n",
       "    </tr>\n",
       "  </tbody>\n",
       "</table>\n",
       "</div>"
      ],
      "text/plain": [
       "                     causa_acidente  count\n",
       "0                Ingestão de Álcool  23723\n",
       "1  Ingestão de álcool pelo condutor  27592"
      ]
     },
     "execution_count": 28,
     "metadata": {},
     "output_type": "execute_result"
    }
   ],
   "source": [
    "pd.set_option('display.max_rows', 500)\n",
    "\n",
    "(dataset\n",
    "    .filter(col('causa_acidente').isin(['Ingestão de Álcool', 'Ingestão de álcool pelo condutor'])) \n",
    "    .groupBy(\"causa_acidente\")\n",
    "    .count()\n",
    ").toPandas()"
   ]
  },
  {
   "cell_type": "code",
   "execution_count": 29,
   "metadata": {},
   "outputs": [],
   "source": [
    "dataset = dataset.filter(col('causa_acidente').isin(['Ingestão de Álcool', 'Ingestão de álcool pelo condutor'])) "
   ]
  },
  {
   "cell_type": "code",
   "execution_count": 30,
   "metadata": {},
   "outputs": [],
   "source": [
    "# Ingestão de álcool pelo condutor\n",
    "# Ingestão de Álcool\t"
   ]
  },
  {
   "cell_type": "code",
   "execution_count": 32,
   "metadata": {},
   "outputs": [
    {
     "name": "stderr",
     "output_type": "stream",
     "text": [
      "24/02/22 10:43:16 WARN MemoryManager: Total allocation exceeds 95,00% (1.020.054.720 bytes) of heap memory\n",
      "Scaling row group sizes to 95,00% for 8 writers\n",
      "                                                                                \r"
     ]
    }
   ],
   "source": [
    "dataset.write.mode('overwrite').parquet(f\"{OUTPUT_PATH}/dataset_{VERSION}\")\n"
   ]
  },
  {
   "cell_type": "code",
   "execution_count": null,
   "metadata": {},
   "outputs": [],
   "source": [
    "df.group"
   ]
  }
 ],
 "metadata": {
  "kernelspec": {
   "display_name": "ds-classify-accident",
   "language": "python",
   "name": "python3"
  },
  "language_info": {
   "codemirror_mode": {
    "name": "ipython",
    "version": 3
   },
   "file_extension": ".py",
   "mimetype": "text/x-python",
   "name": "python",
   "nbconvert_exporter": "python",
   "pygments_lexer": "ipython3",
   "version": "3.12.1"
  }
 },
 "nbformat": 4,
 "nbformat_minor": 2
}
