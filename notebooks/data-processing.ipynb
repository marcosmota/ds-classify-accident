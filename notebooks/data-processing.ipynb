{
 "cells": [
  {
   "cell_type": "code",
   "execution_count": 204,
   "metadata": {},
   "outputs": [],
   "source": [
    "import pandas as pd\n",
    "import matplotlib.pyplot as plt\n",
    "\n",
    "from pyspark.sql import SparkSession\n",
    "from pyspark.sql.types import IntegerType\n",
    "from pyspark.sql.functions import *\n",
    "pd.set_option('display.max_rows', 500)\n",
    "import holidays\n",
    "\n",
    "INPUT_PATH = \"../data/external/acidentes*.csv\"\n",
    "OUTPUT_PATH = \"../data/processed/\"\n",
    "VERSION = \"v1\""
   ]
  },
  {
   "cell_type": "markdown",
   "metadata": {},
   "source": [
    "**Sumários**<a id='toc0_'></a>    \n",
    "- [Segmentação de Dados](#toc1_1_)    \n",
    "  - [Ingestão de Alcool](#toc1_1_1_)    \n",
    "  - [Sexo](#toc1_1_2_)    \n",
    "  - [Tipo Envolvido](#toc1_1_3_)    \n",
    "  - [Idade](#toc1_1_4_)    \n",
    "- [Enriquecimento](#toc1_2_)    \n",
    "  - [Feriados](#toc1_2_1_)   \n",
    "- [Transformação](#toc1_3_)    \n",
    "  - [Condição metereológica](#toc1_3_1_)    \n",
    "  - [Feriados](#toc1_3_2_)    \n",
    "  - [Fase do Dia](#toc1_3_3_)    \n",
    "  - [Tipo da estrada](#toc1_3_4_)    \n",
    "  - [Idade](#toc1_3_5_)    \n",
    "  - [Grupo de Idade](#toc1_3_6_)    \n",
    "  - [Balanceamento dos Dados](#toc1_3_7_)    \n",
    "- [Criando datasets](#toc1_4_)    \n",
    "  - [Seleção de Features](#toc1_4_1_)    \n",
    "  - [Persistindo Datasets](#toc1_4_2_)    \n",
    "\n",
    "<!-- vscode-jupyter-toc-config\n",
    "\tnumbering=false\n",
    "\tanchor=true\n",
    "\tflat=false\n",
    "\tminLevel=1\n",
    "\tmaxLevel=6\n",
    "\t/vscode-jupyter-toc-config -->\n",
    "<!-- THIS CELL WILL BE REPLACED ON TOC UPDATE. DO NOT WRITE YOUR TEXT IN THIS CELL -->"
   ]
  },
  {
   "cell_type": "code",
   "execution_count": 205,
   "metadata": {},
   "outputs": [
    {
     "name": "stderr",
     "output_type": "stream",
     "text": [
      "                                                                                \r"
     ]
    }
   ],
   "source": [
    "spark = SparkSession.builder.appName(\"ds-classify\").getOrCreate()\n",
    "df = spark.read.option('encoding', 'ISO-8859-1').csv(INPUT_PATH, header=True, sep=';')"
   ]
  },
  {
   "cell_type": "code",
   "execution_count": 206,
   "metadata": {},
   "outputs": [
    {
     "name": "stderr",
     "output_type": "stream",
     "text": [
      "                                                                                \r"
     ]
    },
    {
     "name": "stdout",
     "output_type": "stream",
     "text": [
      "+------+------+------------+------------+--------+---+---+-----+--------------------+--------------------+--------------------+----------------------+-----------+-----------+----------------------+----------+-----------------+--------+----------+---------------+--------------------+----------------------+--------------+-------------+-----+-------------+------+-------------+--------------+------+------------+------------+--------+---------+---------------+\n",
      "|    id| pesid|data_inversa|  dia_semana| horario| uf| br|   km|           municipio|      causa_acidente|       tipo_acidente|classificacao_acidente|   fase_dia|sentido_via|condicao_metereologica|tipo_pista|      tracado_via|uso_solo|id_veiculo|   tipo_veiculo|               marca|ano_fabricacao_veiculo|tipo_envolvido|estado_fisico|idade|         sexo|ilesos|feridos_leves|feridos_graves|mortos|    latitude|   longitude|regional|delegacia|            uop|\n",
      "+------+------+------------+------------+--------+---+---+-----+--------------------+--------------------+--------------------+----------------------+-----------+-----------+----------------------+----------+-----------------+--------+----------+---------------+--------------------+----------------------+--------------+-------------+-----+-------------+------+-------------+--------------+------+------------+------------+--------+---------+---------------+\n",
      "|182256|403856|  2019-01-01| terça-feira|04:00:00| CE|116|136,9|              RUSSAS|    Animais na Pista|Atropelamento de ...|           Sem Vítimas|  Amanhecer|Decrescente|                 Vento|   Simples|            Curva|     Não|    324937|       Caminhão|I/MB 15SPRINT RON...|                  2012|      Condutor|        Ileso|   35|    Masculino|     1|            0|             0|     0|   -4,766018|  -38,056034| SPRF-CE| DEL03-CE| UOP01-DEL03-CE|\n",
      "|182263|402859|  2019-01-01| terça-feira|05:00:00| MT|158|599,5|            AGUA BOA|Defeito Mecânico ...|            Incêndio|           Sem Vítimas|  Amanhecer|Decrescente|        Garoa/Chuvisco|   Simples|             Reta|     Não|    324940|       Caminhão|FORD/CARGO 815 N/...|                  2011|      Condutor|        Ileso|   30|    Masculino|     1|            0|             0|     0|     -14,319|     -52,169| SPRF-MT| DEL07-MT| UOP02-DEL07-MT|\n",
      "|182277|402850|  2019-01-01| terça-feira|10:00:00| PA| 10|   34|          DOM ELISEU|Velocidade Incomp...|    Colisão traseira|           Sem Vítimas|  Pleno dia|Decrescente|               Nublado|   Simples|    Não Informado|     Não|    324958|Caminhão-trator|VOLVO/FH 540 6X4T...|                  2012|      Condutor|        Ileso|   54|    Masculino|     1|            0|             0|     0| -4,15296734|-47,54608154| SPRF-PA| DEL02-PA| UOP02-DEL02-PA|\n",
      "|182289|402431|  2019-01-01| terça-feira|08:30:00| BA|101|   13|            RIO REAL|  Ingestão de Álcool|    Colisão traseira|   Com Vítimas Feridas|  Pleno dia|Decrescente|             Céu Claro|     Dupla|Desvio Temporário|     Não|    324987|Caminhão-trator|SCANIA/R 440 A6X2...|                  2018|      Condutor|        Ileso|   43|    Masculino|     1|            0|             0|     0|    -11,5896|    -37,8761| SPRF-SE| DEL02-SE| UOP03-DEL02-SE|\n",
      "|182307|402638|  2019-01-01| terça-feira|13:50:00| BA|116|  440|    FEIRA DE SANTANA|  Ingestão de Álcool|Saída de leito ca...|   Com Vítimas Feridas|  Pleno dia|Decrescente|             Céu Claro|     Dupla|            Curva|     Não|    325030|Caminhão-trator|VOLVO/FH12 380 4X...|                  2003|      Condutor| Lesões Leves|   57|    Masculino|     0|            1|             0|     0|     -12,344|     -39,087| SPRF-BA| DEL02-BA| UOP01-DEL02-BA|\n",
      "|182307|402642|  2019-01-01| terça-feira|13:50:00| BA|116|  440|    FEIRA DE SANTANA|  Ingestão de Álcool|Saída de leito ca...|   Com Vítimas Feridas|  Pleno dia|Decrescente|             Céu Claro|     Dupla|            Curva|     Não|    325030|Caminhão-trator|VOLVO/FH12 380 4X...|                  2003|    Passageiro|Lesões Graves|   37|    Masculino|     0|            0|             1|     0|     -12,344|     -39,087| SPRF-BA| DEL02-BA| UOP01-DEL02-BA|\n",
      "|182316|402361|  2019-01-01| terça-feira|15:15:00| RS|101|    8|              TORRES|Falta de Atenção ...|          Tombamento|           Sem Vítimas|  Pleno dia|  Crescente|             Céu Claro|     Dupla|             Reta|     Sim|    325039|Caminhão-trator|SCANIA/R124 GA6X4...|                  2004|      Condutor|        Ileso|   28|    Masculino|     1|            0|             0|     0|  -29,360483|  -49,807865| SPRF-RS| DEL03-RS|DEL9/3-UOP03/RS|\n",
      "|182334|402401|  2019-01-01| terça-feira|14:45:00| SE|101| 76,7|              MARUIM|Falta de Atenção ...|Saída de leito ca...|   Com Vítimas Feridas|  Pleno dia|  Crescente|                   Sol|   Simples|             Reta|     Não|    325068|       Caminhão|IVECO/TECTOR 240E...|                  2010|      Condutor|Não Informado|   NA|Não Informado|     0|            0|             0|     0|    -10,7853|    -37,1421| SPRF-SE| DEL01-SE| UOP01-DEL01-SE|\n",
      "|182361|402521|  2019-01-01| terça-feira|10:00:00| MG|251|  280|             SALINAS|Ultrapassagem Ind...|Saída de leito ca...|   Com Vítimas Feridas|  Pleno dia|Decrescente|                   Sol|   Simples|             Reta|     Não|    325052|Caminhão-trator|VOLVO/FH 440 6X2T...|                  2011|      Condutor| Lesões Leves|   52|    Masculino|     0|            1|             0|     0|-16,12498503|-42,22251892| SPRF-MG| DEL11-MG| UOP02-DEL11-MG|\n",
      "|182362|404322|  2019-01-01| terça-feira|18:20:00| PE|101|   41|            IGARASSU|  Ingestão de Álcool|     Colisão lateral|           Sem Vítimas|Plena Noite|  Crescente|             Céu Claro|     Dupla|             Reta|     Sim|    325208|       Caminhão|VW/8.140/8.140/8....|                  1999|      Condutor|        Ileso|   59|    Masculino|     1|            0|             0|     0|      -7,837|    -34,9124| SPRF-PE| DEL01-PE| UOP02-DEL01-PE|\n",
      "|182410|404399|  2019-01-01| terça-feira|12:00:00| MG| 40|  454|        CAETANOPOLIS|  Pista Escorregadia|         Capotamento|           Sem Vítimas|  Pleno dia|Decrescente|                 Chuva|     Dupla|             Reta|     Não|    325148|       Caminhão|M.BENZ/1214 C/121...|                  1998|      Condutor|        Ileso|   48|    Masculino|     1|            0|             0|     0|    -19,3627|    -44,3402| SPRF-MG| DEL02-MG| UOP01-DEL02-MG|\n",
      "|182433|404380|  2019-01-01| terça-feira|19:20:00| RJ| 40|  106|     DUQUE DE CAXIAS|  Ingestão de Álcool|Saída de leito ca...|           Sem Vítimas|  Anoitecer|  Crescente|               Nublado|   Simples|             Reta|     Não|    325199|Caminhão-trator|IVECO/STRALIHD 45...|                  2007|      Condutor|        Ileso|   49|    Masculino|     1|            0|             0|     0|    -22,6565|    -43,2837| SPRF-RJ| DEL01-RJ| UOP01-DEL01-RJ|\n",
      "|182443|404484|  2019-01-02|quarta-feira|06:40:00| RJ|116|  227|               PIRAI|Carga excessiva e...|          Tombamento|   Com Vítimas Feridas|  Pleno dia|Decrescente|             Céu Claro|     Dupla|            Curva|     Não|    325276|Caminhão-trator|VOLVO/FH12 380 4X...|                  2004|      Condutor| Lesões Leves|   42|    Masculino|     0|            1|             0|     0|  -22,672081|  -43,817894| SPRF-RJ| DEL07-RJ| UOP01-DEL07-RJ|\n",
      "|182451|402669|  2019-01-02|quarta-feira|07:35:00| RS|386|  365|    FAZENDA VILANOVA|   Condutor Dormindo|    Colisão traseira|   Com Vítimas Feridas|  Pleno dia|Decrescente|             Céu Claro|     Dupla|             Reta|     Não|    325261|Caminhão-trator|M.BENZ/1938 S/193...|                  2004|      Condutor|        Ileso|   40|    Masculino|     1|            0|             0|     0|  -29,570097|  -51,865437| SPRF-RS| DEL04-RS| UOP02-DEL04-RS|\n",
      "|182459|402929|  2019-01-02|quarta-feira|08:50:00| MG|262|  101|          ABRE CAMPO|Defeito Mecânico ...|            Incêndio|           Sem Vítimas|  Pleno dia|Decrescente|             Céu Claro|   Simples|            Curva|     Não|    325388|       Caminhão|IVECO/TECTOR 240E...|                  2011|      Condutor|        Ileso|   36|    Masculino|     1|            0|             0|     0|  -20,289152|  -42,523285| SPRF-MG| DEL03-MG| UOP03-DEL03-MG|\n",
      "|182459|403072|  2019-01-02|quarta-feira|08:50:00| MG|262|  101|          ABRE CAMPO|Defeito Mecânico ...|            Incêndio|           Sem Vítimas|  Pleno dia|Decrescente|             Céu Claro|   Simples|            Curva|     Não|    325388|       Caminhão|IVECO/TECTOR 240E...|                  2011|    Passageiro|        Ileso|   30|    Masculino|     1|            0|             0|     0|  -20,289152|  -42,523285| SPRF-MG| DEL03-MG| UOP03-DEL03-MG|\n",
      "|182472|405393|  2019-01-02|quarta-feira|08:25:00| CE|116|  162|              RUSSAS|Falta de Atenção ...|     Colisão lateral|           Sem Vítimas|  Pleno dia|Decrescente|             Céu Claro|   Simples|             Reta|     Sim|    325282|Caminhão-trator|VOLVO/FH 400 4X2T...|                  2006|      Condutor|        Ileso|   43|    Masculino|     1|            0|             0|     0|   -4,929619|  -37,989922| SPRF-CE| DEL03-CE| UOP01-DEL03-CE|\n",
      "|182486|403142|  2019-01-02|quarta-feira|10:45:00| SP|116|  311|SAO LOURENCO DA S...|   Condutor Dormindo|Atropelamento de ...|   Com Vítimas Feridas|  Pleno dia|  Crescente|                   Sol|     Dupla|             Reta|     Não|    325377|       Caminhão|M.BENZ/915C/915C/...|                  2011|      Pedestre| Lesões Leves|   48|     Feminino|     0|            1|             0|     0|-23,86912046| -46,9569397| SPRF-SP| DEL04-SP| UOP01-DEL04-SP|\n",
      "|182486|402972|  2019-01-02|quarta-feira|10:45:00| SP|116|  311|SAO LOURENCO DA S...|   Condutor Dormindo|Atropelamento de ...|   Com Vítimas Feridas|  Pleno dia|  Crescente|                   Sol|     Dupla|             Reta|     Não|    325377|       Caminhão|M.BENZ/915C/915C/...|                  2011|      Condutor|        Ileso|   39|    Masculino|     1|            0|             0|     0|-23,86912046| -46,9569397| SPRF-SP| DEL04-SP| UOP01-DEL04-SP|\n",
      "|182486|403140|  2019-01-02|quarta-feira|10:45:00| SP|116|  311|SAO LOURENCO DA S...|   Condutor Dormindo|Atropelamento de ...|   Com Vítimas Feridas|  Pleno dia|  Crescente|                   Sol|     Dupla|             Reta|     Não|    325377|       Caminhão|M.BENZ/915C/915C/...|                  2011|    Passageiro|        Ileso|   26|    Masculino|     1|            0|             0|     0|-23,86912046| -46,9569397| SPRF-SP| DEL04-SP| UOP01-DEL04-SP|\n",
      "+------+------+------------+------------+--------+---+---+-----+--------------------+--------------------+--------------------+----------------------+-----------+-----------+----------------------+----------+-----------------+--------+----------+---------------+--------------------+----------------------+--------------+-------------+-----+-------------+------+-------------+--------------+------+------------+------------+--------+---------+---------------+\n",
      "only showing top 20 rows\n",
      "\n"
     ]
    }
   ],
   "source": [
    "df.show()"
   ]
  },
  {
   "cell_type": "markdown",
   "metadata": {},
   "source": [
    "## <a id='toc1_1_'></a>[Segmentação de Dados](#toc0_)"
   ]
  },
  {
   "cell_type": "markdown",
   "metadata": {},
   "source": [
    "### <a id='toc1_1_1_'></a>[Ingestão de Alcool](#toc0_)\n",
    "Nesta análise analisaremos somente acidentes que ocorreram por ingestão de alcool. Dessa forma, precisamos filtrar as causas de acidentes por ```Ingestão de Alcool```e ```Ingestão de álcool pelo condutor```"
   ]
  },
  {
   "cell_type": "code",
   "execution_count": 207,
   "metadata": {},
   "outputs": [
    {
     "name": "stderr",
     "output_type": "stream",
     "text": [
      "[Stage 296:==================================================>      (8 + 1) / 9]\r"
     ]
    },
    {
     "name": "stdout",
     "output_type": "stream",
     "text": [
      "+------------------------+-------------------+---------------+\n",
      "|Total_Ingestão_de_Álcool|Total_Outras_Causas|Total_Acidentes|\n",
      "+------------------------+-------------------+---------------+\n",
      "|                   51315|             731738|         783053|\n",
      "+------------------------+-------------------+---------------+\n",
      "\n"
     ]
    },
    {
     "name": "stderr",
     "output_type": "stream",
     "text": [
      "                                                                                \r"
     ]
    }
   ],
   "source": [
    "\n",
    "\n",
    "(df\n",
    "    .agg(sum(when(col('causa_acidente').isin(['Ingestão de Álcool', 'Ingestão de álcool pelo condutor']), 1).otherwise(0)).alias('Total_Ingestão_de_Álcool'),\n",
    "         sum(when(~col('causa_acidente').isin(['Ingestão de Álcool', 'Ingestão de álcool pelo condutor']), 1).otherwise(0)).alias('Total_Outras_Causas'))\n",
    "    .withColumn('Total_Acidentes', col('Total_Ingestão_de_Álcool') + col('Total_Outras_Causas'))\n",
    ").show()\n"
   ]
  },
  {
   "cell_type": "markdown",
   "metadata": {},
   "source": [
    "Temos **51.315** acidentes causados por ingestão de Álcool, vamos filtrar os dados para somente para a causa ```Ingestão de Álcool```."
   ]
  },
  {
   "cell_type": "code",
   "execution_count": 208,
   "metadata": {},
   "outputs": [],
   "source": [
    "df = df.filter(col('causa_acidente').isin(['Ingestão de Álcool', 'Ingestão de álcool pelo condutor']))"
   ]
  },
  {
   "cell_type": "markdown",
   "metadata": {},
   "source": [
    "### <a id='toc1_1_2_'></a>[Sexo](#toc0_)\n",
    "\n",
    "Ao analisarmos os gêneros existestes identificamos que existe **121** registos ignorados e **3.596** que não foram informados, consequentemente eles serão removidos da nossa analise."
   ]
  },
  {
   "cell_type": "code",
   "execution_count": 209,
   "metadata": {},
   "outputs": [
    {
     "name": "stderr",
     "output_type": "stream",
     "text": [
      "                                                                                \r"
     ]
    },
    {
     "name": "stdout",
     "output_type": "stream",
     "text": [
      "+-------------+-----+\n",
      "|         sexo|count|\n",
      "+-------------+-----+\n",
      "|     Ignorado|  121|\n",
      "|Não Informado| 3596|\n",
      "|     Feminino| 9263|\n",
      "|    Masculino|38335|\n",
      "+-------------+-----+\n",
      "\n"
     ]
    }
   ],
   "source": [
    "df.groupBy('sexo').count().show()"
   ]
  },
  {
   "cell_type": "code",
   "execution_count": 210,
   "metadata": {},
   "outputs": [
    {
     "name": "stderr",
     "output_type": "stream",
     "text": [
      "                                                                                \r"
     ]
    },
    {
     "name": "stdout",
     "output_type": "stream",
     "text": [
      "+---------+-----+\n",
      "|     sexo|count|\n",
      "+---------+-----+\n",
      "| Feminino| 9263|\n",
      "|Masculino|38335|\n",
      "+---------+-----+\n",
      "\n"
     ]
    },
    {
     "name": "stderr",
     "output_type": "stream",
     "text": [
      "                                                                                \r"
     ]
    },
    {
     "data": {
      "text/plain": [
       "47598"
      ]
     },
     "execution_count": 210,
     "metadata": {},
     "output_type": "execute_result"
    }
   ],
   "source": [
    "\n",
    "df = df.filter(col('sexo').isin([\"Masculino\", \"Feminino\"])) \n",
    "df.groupBy('sexo').count().show()\n",
    "df.count()"
   ]
  },
  {
   "cell_type": "markdown",
   "metadata": {},
   "source": [
    "Após segmentar o genero para masculino e feminio, temos **47.598** registros"
   ]
  },
  {
   "cell_type": "markdown",
   "metadata": {},
   "source": [
    "### <a id='toc1_1_3_'></a>[Tipo Envolvido](#toc0_)\n",
    "\n",
    "Vamos remover do nossa análise o envolvimento de testemunhas"
   ]
  },
  {
   "cell_type": "code",
   "execution_count": 211,
   "metadata": {},
   "outputs": [],
   "source": [
    "df = df.filter(col('tipo_envolvido') != 'Testemunha') \n"
   ]
  },
  {
   "cell_type": "code",
   "execution_count": 212,
   "metadata": {},
   "outputs": [
    {
     "name": "stderr",
     "output_type": "stream",
     "text": [
      "                                                                                \r"
     ]
    },
    {
     "name": "stdout",
     "output_type": "stream",
     "text": [
      "+---------------------+\n",
      "|count(DISTINCT pesid)|\n",
      "+---------------------+\n",
      "|                47598|\n",
      "+---------------------+\n",
      "\n"
     ]
    }
   ],
   "source": [
    "df.agg(countDistinct(\"pesid\")).show()"
   ]
  },
  {
   "cell_type": "markdown",
   "metadata": {},
   "source": [
    "Após a remoção de testemunhas restaram **47.598** registros"
   ]
  },
  {
   "cell_type": "markdown",
   "metadata": {},
   "source": [
    "### <a id='toc1_1_4_'></a>[Idade](#toc0_)\n",
    "\n",
    "Algumas idades quando são nulas tem valor \"NA\", dessa forma vamos remover as pessoas que não tem idade informada. Além disso vamos segmentar a idade entre 0 a 100 anos."
   ]
  },
  {
   "cell_type": "code",
   "execution_count": 213,
   "metadata": {},
   "outputs": [],
   "source": [
    "df = df.withColumn(\"idade\", when(df.idade == \"NA\", None) \\\n",
    "      .otherwise(df.idade))\n",
    "df = df.filter(df.idade.isNotNull())"
   ]
  },
  {
   "cell_type": "code",
   "execution_count": 214,
   "metadata": {},
   "outputs": [],
   "source": [
    "df = df.withColumn(\"idade\", col(\"idade\").cast(IntegerType()))\n",
    "df = df.filter((col('idade') >= 0) & (col('idade') <= 100))"
   ]
  },
  {
   "cell_type": "code",
   "execution_count": 215,
   "metadata": {},
   "outputs": [
    {
     "name": "stderr",
     "output_type": "stream",
     "text": [
      "[Stage 314:============================================>            (7 + 2) / 9]\r"
     ]
    },
    {
     "name": "stdout",
     "output_type": "stream",
     "text": [
      "+---------------------+\n",
      "|count(DISTINCT pesid)|\n",
      "+---------------------+\n",
      "|                46245|\n",
      "+---------------------+\n",
      "\n"
     ]
    },
    {
     "name": "stderr",
     "output_type": "stream",
     "text": [
      "                                                                                \r"
     ]
    }
   ],
   "source": [
    "df.agg(countDistinct(\"pesid\")).show()"
   ]
  },
  {
   "cell_type": "markdown",
   "metadata": {},
   "source": [
    "Após realizar os filtros nós temos **46.245** registros."
   ]
  },
  {
   "cell_type": "markdown",
   "metadata": {},
   "source": [
    "## <a id='toc1_2_'></a>[Enriquecimento](#toc0_)"
   ]
  },
  {
   "cell_type": "markdown",
   "metadata": {},
   "source": [
    "### <a id='toc1_2_1_'></a>[Feriados](#toc0_)\n",
    "\n",
    "Quando ocorre feriados aumentam os volume de trafego nas vias federais, pois as pessoas aproveitam feriados para viajar, consequentemente há mais chance de ocorre acidentes, dessa forma vamos anexar os feriados na nossa base."
   ]
  },
  {
   "cell_type": "code",
   "execution_count": 216,
   "metadata": {},
   "outputs": [],
   "source": [
    "def get_holiday_name_by_state(date, state):\n",
    "    if state not in holidays.Brazil.subdivisions:\n",
    "        state = None\n",
    "    \n",
    "    br_holidays = holidays.Brazil(subdiv=state) if state else holidays.Brazil()\n",
    "    return br_holidays.get(date, default=None)\n",
    "\n",
    "get_holiday_name_by_state_udf = udf(get_holiday_name_by_state, StringType())"
   ]
  },
  {
   "cell_type": "code",
   "execution_count": 217,
   "metadata": {},
   "outputs": [],
   "source": [
    "df = df.withColumn(\"feriado\", get_holiday_name_by_state_udf(col(\"data_inversa\"), col(\"uf\")))\n"
   ]
  },
  {
   "cell_type": "markdown",
   "metadata": {},
   "source": [
    "## <a id='toc1_3_'></a>[Transformação](#toc0_)"
   ]
  },
  {
   "cell_type": "markdown",
   "metadata": {},
   "source": [
    "### <a id='toc1_3_1_'></a>[Condição metereológica](#toc0_)"
   ]
  },
  {
   "cell_type": "code",
   "execution_count": 218,
   "metadata": {},
   "outputs": [],
   "source": [
    "condicoes_normais = [\"Céu Claro\", \"Sol\"]\n",
    "\n",
    "df = df.withColumn(\"clima\", \n",
    "                   when(col('condicao_metereologica').isin(condicoes_normais), \"normal\").otherwise(\"adverso\")\n",
    ")"
   ]
  },
  {
   "cell_type": "markdown",
   "metadata": {},
   "source": [
    "### <a id='toc1_3_2_'></a>[Feriados](#toc0_)"
   ]
  },
  {
   "cell_type": "code",
   "execution_count": 219,
   "metadata": {},
   "outputs": [],
   "source": [
    "df = df.withColumn(\"feriado\", \n",
    "                   when(col('feriado').isNull(), \"nao\").otherwise(\"sim\")\n",
    ")"
   ]
  },
  {
   "cell_type": "markdown",
   "metadata": {},
   "source": [
    "### <a id='toc1_3_3_'></a>[Fase do Dia](#toc0_)"
   ]
  },
  {
   "cell_type": "code",
   "execution_count": 220,
   "metadata": {},
   "outputs": [],
   "source": [
    "fases_dia = [\"Plena Noite\", \"Anoitecer\"]\n",
    "\n",
    "df = df.withColumn(\"periodo\", \n",
    "                   when(col('fase_dia').isin(fases_dia), \"noturno\").otherwise(\"diurno\")\n",
    ")"
   ]
  },
  {
   "cell_type": "markdown",
   "metadata": {},
   "source": [
    "### <a id='toc1_3_4_'></a>[Tipo da estrada](#toc0_)"
   ]
  },
  {
   "cell_type": "code",
   "execution_count": 221,
   "metadata": {},
   "outputs": [],
   "source": [
    "df = df.withColumn(\"tipo_pista\", \n",
    "                   when(col('tipo_pista') != \"Simples\", \"nao_simples\").otherwise(\"simples\")\n",
    ")"
   ]
  },
  {
   "cell_type": "markdown",
   "metadata": {},
   "source": [
    "### <a id='toc1_3_5_'></a>[Idade](#toc0_)"
   ]
  },
  {
   "cell_type": "markdown",
   "metadata": {},
   "source": [
    "### <a id='toc1_3_6_'></a>[Grupo de Idade](#toc0_)"
   ]
  },
  {
   "cell_type": "code",
   "execution_count": 222,
   "metadata": {},
   "outputs": [],
   "source": [
    "df = df.withColumn(\"grupo_idade\", \n",
    "    when((col(\"idade\") >= 0) & (col(\"idade\") <= 16), \"0-16\")\n",
    "    .when((col(\"idade\") >= 17) & (col(\"idade\") <= 24), \"17-24\")\n",
    "    .when((col(\"idade\") >= 25) & (col(\"idade\") <= 34), \"25-34\")\n",
    "    .when((col(\"idade\") >= 35) & (col(\"idade\") <= 44), \"35-44\")\n",
    "    .when((col(\"idade\") >= 45) & (col(\"idade\") <= 64), \"45-64\")\n",
    "    .otherwise(\"65-100\")\n",
    ")\n",
    "\n",
    "\n"
   ]
  },
  {
   "cell_type": "code",
   "execution_count": 223,
   "metadata": {},
   "outputs": [
    {
     "name": "stderr",
     "output_type": "stream",
     "text": [
      "                                                                                \r"
     ]
    },
    {
     "data": {
      "image/png": "[encoded data removed]",
      "text/plain": [
       "<Figure size 640x480 with 1 Axes>"
      ]
     },
     "metadata": {},
     "output_type": "display_data"
    }
   ],
   "source": [
    "\n",
    "age_grouped = df.groupBy(\"grupo_idade\").count().orderBy(\"grupo_idade\").toPandas()\n",
    "\n",
    "age_grouped.plot(x=\"grupo_idade\", y=\"count\", kind=\"bar\")\n",
    "plt.xlabel(\"Grupo de Idade\")\n",
    "\n",
    "plt.xticks(rotation=0)\n",
    "plt.title(\"Distribuição do Grupo de Idade\")\n",
    "plt.show()\n"
   ]
  },
  {
   "cell_type": "markdown",
   "metadata": {},
   "source": [
    "### <a id='toc1_3_7_'></a>[Balanceamento dos Dados](#toc0_)"
   ]
  },
  {
   "cell_type": "code",
   "execution_count": 224,
   "metadata": {},
   "outputs": [
    {
     "name": "stderr",
     "output_type": "stream",
     "text": [
      "                                                                                \r"
     ]
    },
    {
     "data": {
      "text/plain": [
       "<Axes: xlabel='mortos'>"
      ]
     },
     "execution_count": 224,
     "metadata": {},
     "output_type": "execute_result"
    },
    {
     "data": {
      "image/png": "[encoded data removed]",
      "text/plain": [
       "<Figure size 640x480 with 1 Axes>"
      ]
     },
     "metadata": {},
     "output_type": "display_data"
    }
   ],
   "source": [
    "\n",
    "pandas_df = df.groupBy(\"mortos\").count().toPandas()\n",
    "pandas_df.plot(x=\"mortos\", y=\"count\", kind=\"bar\")"
   ]
  },
  {
   "cell_type": "code",
   "execution_count": 225,
   "metadata": {},
   "outputs": [
    {
     "name": "stdout",
     "output_type": "stream",
     "text": [
      "O tamanho da amostra minoritária é: 1217\n",
      "O tamanho da amostra majoritária é: 45028\n"
     ]
    }
   ],
   "source": [
    "majority_count = pandas_df[pandas_df['mortos'] == '0'][\"count\"].values[0]\n",
    "minority_count = pandas_df[pandas_df['mortos'] == '1'][\"count\"].values[0]\n",
    "\n",
    "print(\"O tamanho da amostra minoritária é: {}\".format(minority_count))\n",
    "print(\"O tamanho da amostra majoritária é: {}\".format(majority_count))"
   ]
  },
  {
   "cell_type": "code",
   "execution_count": 226,
   "metadata": {},
   "outputs": [],
   "source": [
    "minority_sample = df.filter(col(\"mortos\") == '1')\n",
    "majority_sample = df.filter(col(\"mortos\") == '0')\n",
    "\n",
    "ratio = majority_count / minority_count\n",
    "\n",
    "minority_sample = minority_sample.sample(withReplacement=True, fraction=ratio, seed=1)\n",
    "df = minority_sample.unionAll(majority_sample)\n",
    "\n"
   ]
  },
  {
   "cell_type": "code",
   "execution_count": 227,
   "metadata": {},
   "outputs": [
    {
     "name": "stderr",
     "output_type": "stream",
     "text": [
      "                                                                                \r"
     ]
    },
    {
     "data": {
      "text/plain": [
       "<Axes: xlabel='mortos'>"
      ]
     },
     "execution_count": 227,
     "metadata": {},
     "output_type": "execute_result"
    },
    {
     "data": {
      "image/png": "[encoded data removed]",
      "text/plain": [
       "<Figure size 640x480 with 1 Axes>"
      ]
     },
     "metadata": {},
     "output_type": "display_data"
    }
   ],
   "source": [
    "\n",
    "pandas_df = df.groupBy(\"mortos\").count().toPandas()\n",
    "pandas_df.plot(x=\"mortos\", y=\"count\", kind=\"bar\")"
   ]
  },
  {
   "cell_type": "markdown",
   "metadata": {},
   "source": [
    "## <a id='toc1_4_'></a>[Criando datasets](#toc0_)\n",
    "\n",
    "Vamos criar dois datasets que serão utilizados em dois experimentos, o primeiro será o controle que não vamos remover os outliers, já o outro será removendo o outliers."
   ]
  },
  {
   "cell_type": "code",
   "execution_count": 228,
   "metadata": {},
   "outputs": [],
   "source": [
    "df = df.withColumn(\"mortos\", col(\"mortos\").cast(IntegerType()))"
   ]
  },
  {
   "cell_type": "code",
   "execution_count": 229,
   "metadata": {},
   "outputs": [
    {
     "name": "stderr",
     "output_type": "stream",
     "text": [
      "                                                                                \r"
     ]
    },
    {
     "data": {
      "image/png": "[encoded data removed]",
      "text/plain": [
       "<Figure size 640x480 with 1 Axes>"
      ]
     },
     "metadata": {},
     "output_type": "display_data"
    }
   ],
   "source": [
    "\n",
    "pandas_df = df.select(\"idade\").toPandas()\n",
    "\n",
    "boxplot = plt.boxplot(pandas_df[\"idade\"])\n",
    "plt.ylabel(\"Idade\")\n",
    "plt.title(\"Distribuição da idade\")\n",
    "\n",
    "whiskers = [item.get_ydata() for item in boxplot['whiskers']]\n",
    "plt.annotate(\"Limite inferior: {}\".format(whiskers[0][1]), xy=(0.5, whiskers[0][1]), xytext=(0.5, whiskers[0][1] + 5),\n",
    "             arrowprops=dict(facecolor='black', arrowstyle=\"->\"))\n",
    "plt.annotate(\"Limite superior: {}\".format(whiskers[1][1]), xy=(0.5, whiskers[1][1]), xytext=(0.5, whiskers[1][1] + 8),\n",
    "             arrowprops=dict(facecolor='black', arrowstyle=\"->\"))\n",
    "\n",
    "\n",
    "plt.show()\n"
   ]
  },
  {
   "cell_type": "code",
   "execution_count": 230,
   "metadata": {},
   "outputs": [],
   "source": [
    "df_outliers_removed = df.filter((col('idade') >= 0) & (col('idade') <= 77))"
   ]
  },
  {
   "cell_type": "markdown",
   "metadata": {},
   "source": [
    "Se notarmos podemos identificar que os outliers acontecem após **77 anos**, dessa forma vamos criar um dataset sem outliers."
   ]
  },
  {
   "cell_type": "markdown",
   "metadata": {},
   "source": [
    "### <a id='toc1_4_1_'></a>[Seleção de Features](#toc0_)"
   ]
  },
  {
   "cell_type": "code",
   "execution_count": 231,
   "metadata": {},
   "outputs": [],
   "source": [
    "\n",
    "COLUNMS = ['uf', 'periodo', 'clima','tipo_pista', 'tipo_veiculo', 'grupo_idade', 'sexo', 'feriado', 'mortos']\n",
    "dataset_v1 = df.select(COLUNMS)\n",
    "dataset_v2 = df_outliers_removed.select(COLUNMS)\n"
   ]
  },
  {
   "cell_type": "markdown",
   "metadata": {},
   "source": [
    "### <a id='toc1_4_2_'></a>[Persistindo Datasets](#toc0_)"
   ]
  },
  {
   "cell_type": "code",
   "execution_count": 232,
   "metadata": {},
   "outputs": [
    {
     "name": "stderr",
     "output_type": "stream",
     "text": [
      "24/03/15 14:28:53 WARN MemoryManager: Total allocation exceeds 95,00% (1.020.054.720 bytes) of heap memory\n",
      "Scaling row group sizes to 95,00% for 8 writers\n",
      "                                                                                \r"
     ]
    }
   ],
   "source": [
    "dataset_v1.write.mode('overwrite').parquet(f\"{OUTPUT_PATH}/dataset_v1.parquet\")\n",
    "dataset_v2.write.mode('overwrite').parquet(f\"{OUTPUT_PATH}/dataset_v2.parquet\")\n"
   ]
  },
  {
   "cell_type": "code",
   "execution_count": null,
   "metadata": {},
   "outputs": [],
   "source": []
  }
 ],
 "metadata": {
  "kernelspec": {
   "display_name": "ds-classify-accident",
   "language": "python",
   "name": "python3"
  },
  "language_info": {
   "codemirror_mode": {
    "name": "ipython",
    "version": 3
   },
   "file_extension": ".py",
   "mimetype": "text/x-python",
   "name": "python",
   "nbconvert_exporter": "python",
   "pygments_lexer": "ipython3",
   "version": "3.12.1"
  }
 },
 "nbformat": 4,
 "nbformat_minor": 2
}
